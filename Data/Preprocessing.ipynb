{
 "cells": [
  {
   "cell_type": "code",
   "execution_count": null,
   "metadata": {},
   "outputs": [],
   "source": [
    "# Here We Will Read And Process all of our Data\n",
    "# 1) Read data from file (csv sample to start), then eventually from the \"API\", then later from the new database\n",
    "# 2) Create input datasets from the data (filtered based on specifications for infield/outfield models)\n",
    "    # Filter the data to only be relevant batted balls\n",
    "    # Feature Engineering: add desired features (maybe an aggresiveness metric based on the count, situation, etc)\n",
    "    # Labels: create labels (y outputs) for field slices based on direction, etc\n",
    "# 3) Create training/testing splits "
   ]
  },
  {
   "cell_type": "code",
   "execution_count": null,
   "metadata": {},
   "outputs": [],
   "source": []
  },
  {
   "cell_type": "code",
   "execution_count": 37,
   "metadata": {},
   "outputs": [],
   "source": [
    "# Imports\n",
    "import DataUtil\n",
    "import importlib"
   ]
  },
  {
   "cell_type": "code",
   "execution_count": null,
   "metadata": {},
   "outputs": [],
   "source": [
    "# Download Data (from API/Database)"
   ]
  },
  {
   "cell_type": "code",
   "execution_count": 38,
   "metadata": {},
   "outputs": [],
   "source": [
    "# 1) Read Data from file:\n",
    "importlib.reload(DataUtil)\n",
    "rawData = DataUtil.getRawData(\"TrackMan_NoStuff_Master.csv\")\n",
    "test = True"
   ]
  },
  {
   "cell_type": "code",
   "execution_count": 39,
   "metadata": {},
   "outputs": [
    {
     "name": "stdout",
     "output_type": "stream",
     "text": [
      "   PitchNo                              PitchUID   PitcherId    BatterId  \\\n",
      "38      39  ce49e310-c9d1-11ed-8515-7790c82b109a  1000187635  1000090557   \n",
      "43      44  25ec6d40-c9d2-11ed-8515-7790c82b109a  1000187635  1000055225   \n",
      "59      60  6e987100-c9d3-11ed-8515-7790c82b109a  1000187635  1000109997   \n",
      "85      86  15574aa0-c9d6-11ed-8515-7790c82b109a  1000067105  1000051139   \n",
      "92      93  b1a183d0-c9d6-11ed-8515-7790c82b109a  1000187635  1000050826   \n",
      "\n",
      "   PitcherThrows BatterSide TaggedPitchType AutoPitchType PitchCall  \\\n",
      "38         Right       Left        ChangeUp      Changeup    InPlay   \n",
      "43         Right      Right          Slider      Changeup    InPlay   \n",
      "59         Right      Right          Slider     Curveball    InPlay   \n",
      "85          Left      Right        ChangeUp      Changeup    InPlay   \n",
      "92         Right       Left        Fastball      Changeup    InPlay   \n",
      "\n",
      "   TaggedHitType  ...  HitSpinRate  PositionAt110X  PositionAt110Y  \\\n",
      "38    GroundBall  ...          NaN             NaN             NaN   \n",
      "43    GroundBall  ...  3086.215908             NaN             NaN   \n",
      "59    GroundBall  ...          NaN             NaN             NaN   \n",
      "85    GroundBall  ...          NaN             NaN             NaN   \n",
      "92    GroundBall  ...  5082.167288             NaN             NaN   \n",
      "\n",
      "    PositionAt110Z  Distance  Direction    Bearing  HitLaunchConfidence  \\\n",
      "38             NaN  21.56607   2.490650   1.240098                  Low   \n",
      "43             NaN  83.33296 -32.436491 -34.972413                 High   \n",
      "59             NaN   6.80686   3.777003   2.377727                  Low   \n",
      "85             NaN   3.53534  -9.251846  14.058949                  Low   \n",
      "92             NaN  41.10316  40.079887  40.924194                  Low   \n",
      "\n",
      "    HitLandingConfidence  FieldSlice  \n",
      "38                   Low           3  \n",
      "43                  High           1  \n",
      "59                   Low           3  \n",
      "85                   Low           2  \n",
      "92                Medium           5  \n",
      "\n",
      "[5 rows x 34 columns]\n",
      "(545, 34)\n",
      "   PitchNo                              PitchUID   PitcherId    BatterId  \\\n",
      "3        4  1b7921d0-c9cf-11ed-8515-7790c82b109a  1000067105  1000025449   \n",
      "27      28  b09ea180-c9d0-11ed-8515-7790c82b109a  1000187635  1000092211   \n",
      "62      63  efd21b40-c9d3-11ed-8515-7790c82b109a  1000187635  1000132306   \n",
      "81      82  b9073df0-c9d5-11ed-8515-7790c82b109a  1000067105      690970   \n",
      "84      85  f7a9a2a0-c9d5-11ed-8515-7790c82b109a  1000067105  1000064202   \n",
      "\n",
      "   PitcherThrows BatterSide TaggedPitchType AutoPitchType PitchCall  \\\n",
      "3           Left       Left        Fastball     Four-Seam    InPlay   \n",
      "27         Right      Right        Fastball     Four-Seam    InPlay   \n",
      "62         Right      Right        Fastball     Four-Seam    InPlay   \n",
      "81          Left       Left        Fastball     Four-Seam    InPlay   \n",
      "84          Left      Right        Fastball     Four-Seam    InPlay   \n",
      "\n",
      "   TaggedHitType  ...  HitSpinRate  PositionAt110X  PositionAt110Y  \\\n",
      "3      LineDrive  ...  2200.085153       109.99950        45.06269   \n",
      "27     LineDrive  ...  2029.115025       109.81257        22.63203   \n",
      "62       FlyBall  ...  3962.520178       106.18607        45.06251   \n",
      "81     LineDrive  ...  1009.407301       108.07630        30.18132   \n",
      "84       FlyBall  ...  2188.305120       109.50192        35.13435   \n",
      "\n",
      "    PositionAt110Z   Distance  Direction    Bearing  HitLaunchConfidence  \\\n",
      "3          0.32145  354.67275   2.293171  -5.546158                 High   \n",
      "27         6.41664  305.80204   0.867412   8.189604                 High   \n",
      "62        28.71169  340.45248  11.786102  22.711448                 High   \n",
      "81        20.47984  320.82199  11.847649   9.282912                 High   \n",
      "84        10.45170  352.29738   3.198820  10.794381                 High   \n",
      "\n",
      "    HitLandingConfidence  FieldSlice  \n",
      "3                   High           3  \n",
      "27                  High           3  \n",
      "62                Medium           4  \n",
      "81                Medium           4  \n",
      "84                Medium           4  \n",
      "\n",
      "[5 rows x 34 columns]\n",
      "(715, 34)\n"
     ]
    }
   ],
   "source": [
    "# 2) Create datasets from the data\n",
    "fieldDataFrame = DataUtil.convertRawToDataFrame(rawData)\n",
    "#print(fieldDataFrame.head())\n",
    "\n",
    "# a) Filter for infield/outfield sets\n",
    "infieldDataFrame = DataUtil.infieldFilter(fieldDataFrame)\n",
    "print(infieldDataFrame.head())\n",
    "print(infieldDataFrame.shape)\n",
    "outfieldDataFrame = DataUtil.outfieldFilter(fieldDataFrame)\n",
    "print(outfieldDataFrame.head())\n",
    "print(outfieldDataFrame.shape)"
   ]
  },
  {
   "cell_type": "code",
   "execution_count": null,
   "metadata": {},
   "outputs": [],
   "source": [
    "# Setup Frame for models:\n",
    "\n",
    "# Basic Model Inputs: PitcherThrows, BatterSide, TaggedPitchType, ZoneSpeed, PlateLocHeight, PlateLocSide\n",
    "\n",
    "# filter x data:\n",
    "\n",
    "# create y list"
   ]
  },
  {
   "cell_type": "code",
   "execution_count": null,
   "metadata": {},
   "outputs": [],
   "source": [
    "# b) Feature Engineering: (create new features) (Sections 1-5 based on direction) \n",
    "#    Section 1:[-45, -27) Section 2:[-27, -9) Section 3:[-9, 9] Section 4:(9, 27] Section 5:(27 to 45]\n"
   ]
  },
  {
   "cell_type": "code",
   "execution_count": null,
   "metadata": {},
   "outputs": [],
   "source": [
    "# c) Create Labels (Output Variables)\n",
    "# for infield take from direction\n",
    "# Maybe just split the direction into 5 even intervals for the slices?\n",
    "\n",
    "# for outfield take from heading "
   ]
  },
  {
   "cell_type": "code",
   "execution_count": null,
   "metadata": {},
   "outputs": [],
   "source": [
    "# 3) Create Training/Test Splits"
   ]
  }
 ],
 "metadata": {
  "kernelspec": {
   "display_name": "Python 3",
   "language": "python",
   "name": "python3"
  },
  "language_info": {
   "codemirror_mode": {
    "name": "ipython",
    "version": 3
   },
   "file_extension": ".py",
   "mimetype": "text/x-python",
   "name": "python",
   "nbconvert_exporter": "python",
   "pygments_lexer": "ipython3",
   "version": "3.11.7"
  }
 },
 "nbformat": 4,
 "nbformat_minor": 2
}
