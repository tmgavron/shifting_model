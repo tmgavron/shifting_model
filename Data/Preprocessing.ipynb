{
 "cells": [
  {
   "cell_type": "code",
   "execution_count": null,
   "metadata": {},
   "outputs": [],
   "source": [
    "# Here We Will Read And Process all of our Data\n",
    "# 1) Read data from file (csv sample to start), then eventually from the \"API\", then later from the new database\n",
    "# 2) Create input datasets from the data (filtered based on specifications for infield/outfield models)\n",
    "    # Filter the data to only be relevant batted balls\n",
    "    # Feature Engineering: add desired features (maybe an aggresiveness metric based on the count, situation, etc)\n",
    "    # Labels: create labels (y outputs) for field slices based on direction, etc\n",
    "# 3) Create training/testing splits "
   ]
  },
  {
   "cell_type": "code",
   "execution_count": 2,
   "metadata": {},
   "outputs": [],
   "source": [
    "# Imports\n",
    "import DataUtil\n",
    "import importlib"
   ]
  },
  {
   "cell_type": "code",
   "execution_count": null,
   "metadata": {},
   "outputs": [],
   "source": [
    "# Download Data (from API/Database)"
   ]
  },
  {
   "cell_type": "code",
   "execution_count": 16,
   "metadata": {},
   "outputs": [],
   "source": [
    "# 1) Read Data from file:\n",
    "importlib.reload(DataUtil)\n",
    "rawData = DataUtil.getRawData(\"TrackMan_NoStuff_Master.csv\")"
   ]
  },
  {
   "cell_type": "code",
   "execution_count": null,
   "metadata": {},
   "outputs": [],
   "source": [
    "# 2) Create datasets from the data\n",
    "fieldDataFrame = DataUtil.convertRawToDataFrame(rawData)\n",
    "#print(fieldDataFrame.head())\n",
    "\n",
    "# a) Filter for infield/outfield sets\n",
    "infieldDataFrame = DataUtil.infieldFilter(fieldDataFrame)\n",
    "# print(infieldDataFrame.head())\n",
    "# print(infieldDataFrame.shape)\n",
    "outfieldDataFrame = DataUtil.outfieldFilter(fieldDataFrame)\n",
    "# print(outfieldDataFrame.head())\n",
    "# print(outfieldDataFrame.shape)"
   ]
  },
  {
   "cell_type": "code",
   "execution_count": null,
   "metadata": {},
   "outputs": [],
   "source": [
    "# b) Feature Engineering: (create new features) (Sections 1-5 based on direction) \n",
    "#    Section 1:[-45, -27) Section 2:[-27, -9) Section 3:[-9, 9] Section 4:(9, 27] Section 5:(27 to 45]\n"
   ]
  },
  {
   "cell_type": "code",
   "execution_count": null,
   "metadata": {},
   "outputs": [],
   "source": [
    "# c) Create Labels (Output Variables)\n",
    "# for infield take from direction\n",
    "# Maybe just split the direction into 5 even intervals for the slices?\n",
    "\n",
    "# for outfield take from heading "
   ]
  },
  {
   "cell_type": "code",
   "execution_count": null,
   "metadata": {},
   "outputs": [],
   "source": [
    "# 3) Create Training/Test Splits"
   ]
  }
 ],
 "metadata": {
  "kernelspec": {
   "display_name": "Python 3",
   "language": "python",
   "name": "python3"
  },
  "language_info": {
   "codemirror_mode": {
    "name": "ipython",
    "version": 3
   },
   "file_extension": ".py",
   "mimetype": "text/x-python",
   "name": "python",
   "nbconvert_exporter": "python",
   "pygments_lexer": "ipython3",
   "version": "3.12.1"
  }
 },
 "nbformat": 4,
 "nbformat_minor": 2
}
