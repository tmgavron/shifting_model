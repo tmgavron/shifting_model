{
 "cells": [
  {
   "cell_type": "code",
   "execution_count": null,
   "metadata": {},
   "outputs": [],
   "source": [
    "# Here We Will Read And Process all of our Data\n",
    "# 1) Read data from file (csv sample to start), then eventually from the \"API\", then later from the new database\n",
    "# 2) Create input datasets from the data (filtered based on specifications for infield/outfield models)\n",
    "    # Filter the data to only be relevant batted balls\n",
    "    # Feature Engineering: add desired features (maybe an aggresiveness metric based on the count, situation, etc)\n",
    "    # Labels: create labels (y outputs) for field slices based on direction, etc\n",
    "# 3) Create training/testing splits "
   ]
  },
  {
   "cell_type": "code",
   "execution_count": null,
   "metadata": {},
   "outputs": [],
   "source": []
  },
  {
   "cell_type": "code",
   "execution_count": 24,
   "metadata": {},
   "outputs": [],
   "source": [
    "# Imports\n",
    "import DataUtil\n",
    "import importlib"
   ]
  },
  {
   "cell_type": "code",
   "execution_count": null,
   "metadata": {},
   "outputs": [],
   "source": [
    "# Download Data (from API/Database)"
   ]
  },
  {
   "cell_type": "code",
   "execution_count": 25,
   "metadata": {},
   "outputs": [],
   "source": [
    "# 1) Read Data from file:\n",
    "importlib.reload(DataUtil)\n",
    "rawData = DataUtil.getRawData(\"TrackMan_NoStuff_Master.csv\")\n",
    "test = True"
   ]
  },
  {
   "cell_type": "code",
   "execution_count": 27,
   "metadata": {},
   "outputs": [
    {
     "name": "stdout",
     "output_type": "stream",
     "text": [
      "     PitcherId    BatterId TaggedPitchType PitchCall TaggedHitType  Direction  \\\n",
      "38  1000187635  1000090557        ChangeUp    InPlay    GroundBall   2.490650   \n",
      "43  1000187635  1000055225          Slider    InPlay    GroundBall -32.436491   \n",
      "59  1000187635  1000109997          Slider    InPlay    GroundBall   3.777003   \n",
      "85  1000067105  1000051139        ChangeUp    InPlay    GroundBall  -9.251846   \n",
      "92  1000187635  1000050826        Fastball    InPlay    GroundBall  40.079887   \n",
      "\n",
      "   HitLaunchConfidence  \n",
      "38                 Low  \n",
      "43                High  \n",
      "59                 Low  \n",
      "85                 Low  \n",
      "92                 Low  \n",
      "(545, 7)\n",
      "     PitcherId    BatterId TaggedPitchType PitchCall TaggedHitType    Bearing  \\\n",
      "3   1000067105  1000025449        Fastball    InPlay     LineDrive  -5.546158   \n",
      "27  1000187635  1000092211        Fastball    InPlay     LineDrive   8.189604   \n",
      "62  1000187635  1000132306        Fastball    InPlay       FlyBall  22.711448   \n",
      "81  1000067105      690970        Fastball    InPlay     LineDrive   9.282912   \n",
      "84  1000067105  1000064202        Fastball    InPlay       FlyBall  10.794381   \n",
      "\n",
      "     Distance HitLandingConfidence  \n",
      "3   354.67275                 High  \n",
      "27  305.80204                 High  \n",
      "62  340.45248               Medium  \n",
      "81  320.82199               Medium  \n",
      "84  352.29738               Medium  \n",
      "(715, 8)\n"
     ]
    }
   ],
   "source": [
    "# 2) Create datasets from the data\n",
    "fieldDataFrame = DataUtil.convertRawToDataFrame(rawData)\n",
    "#print(fieldDataFrame.head())\n",
    "\n",
    "# a) Filter for infield/outfield sets\n",
    "infieldDataFrame = DataUtil.infieldFilter(fieldDataFrame)\n",
    "print(infieldDataFrame.head())\n",
    "print(infieldDataFrame.shape)\n",
    "outfieldDataFrame = DataUtil.outfieldFilter(fieldDataFrame)\n",
    "print(outfieldDataFrame.head())\n",
    "print(outfieldDataFrame.shape)"
   ]
  },
  {
   "cell_type": "code",
   "execution_count": null,
   "metadata": {},
   "outputs": [],
   "source": [
    "# b) Feature Engineering: (create new features) (Sections 1-5 based on direction) \n",
    "#    Section 1:[-45, -27) Section 2:[-27, -9) Section 3:[-9, 9] Section 4:(9, 27] Section 5:(27 to 45]\n"
   ]
  },
  {
   "cell_type": "code",
   "execution_count": null,
   "metadata": {},
   "outputs": [],
   "source": [
    "# c) Create Labels (Output Variables)\n",
    "# for infield take from direction\n",
    "# Maybe just split the direction into 5 even intervals for the slices?\n",
    "\n",
    "# for outfield take from heading "
   ]
  },
  {
   "cell_type": "code",
   "execution_count": null,
   "metadata": {},
   "outputs": [],
   "source": [
    "# 3) Create Training/Test Splits"
   ]
  }
 ],
 "metadata": {
  "kernelspec": {
   "display_name": "Python 3",
   "language": "python",
   "name": "python3"
  },
  "language_info": {
   "codemirror_mode": {
    "name": "ipython",
    "version": 3
   },
   "file_extension": ".py",
   "mimetype": "text/x-python",
   "name": "python",
   "nbconvert_exporter": "python",
   "pygments_lexer": "ipython3",
   "version": "3.11.7"
  }
 },
 "nbformat": 4,
 "nbformat_minor": 2
}
