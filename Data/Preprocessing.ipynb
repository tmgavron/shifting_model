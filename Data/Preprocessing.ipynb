{
 "cells": [
  {
   "cell_type": "code",
   "execution_count": null,
   "metadata": {},
   "outputs": [],
   "source": [
    "# Here We Will Read And Process all of our Data\n",
    "# 1) Read data from file (csv sample to start), then eventually from the \"API\", then later from the new database\n",
    "# 2) Create input datasets from the data (filtered based on specifications for infield/outfield models)\n",
    "    # Filter the data to only be relevant batted balls\n",
    "    # Feature Engineering: add desired features (maybe an aggresiveness metric based on the count, situation, etc)\n",
    "    # Labels: create labels (y outputs) for field slices based on direction, etc\n",
    "# 3) Create training/testing splits "
   ]
  },
  {
   "cell_type": "code",
   "execution_count": 1,
   "metadata": {},
   "outputs": [],
   "source": [
    "# Imports\n",
    "import DataUtil\n",
    "import importlib"
   ]
  },
  {
   "cell_type": "code",
   "execution_count": null,
   "metadata": {},
   "outputs": [],
   "source": [
    "# Download Data (from API/Database)"
   ]
  },
  {
   "cell_type": "code",
   "execution_count": 2,
   "metadata": {},
   "outputs": [
    {
     "name": "stdout",
     "output_type": "stream",
     "text": [
      "['1', 'f59ff420-c9ce-11ed-8515-7790c82b109a', 'Left', 'Left', 'Fastball', 'Four-Seam', 'FoulBall', 'Undefined', 'Undefined', 88.68178, -2.724579, 1.389622, 2389.405293, 162.884009, 23.93844, 2.62296, -0.14924, 80.08714, -5.392921, 0.175846, 87.79181, 67.421513, 5293.0607, nan, nan, nan, nan, -70.967322, nan]\n"
     ]
    }
   ],
   "source": [
    "# 1) Read Data from file:\n",
    "importlib.reload(DataUtil)\n",
    "rawData = DataUtil.getRawData(\"TrackMan_NoStuff_Master.csv\")\n",
    "print(rawData[0])"
   ]
  },
  {
   "cell_type": "code",
   "execution_count": null,
   "metadata": {},
   "outputs": [],
   "source": [
    "# 2) Create datasets from the data\n",
    "\n",
    "# a) Filter for infield/outfield sets\n"
   ]
  },
  {
   "cell_type": "code",
   "execution_count": null,
   "metadata": {},
   "outputs": [],
   "source": [
    "# b) Feature Engineering: (create new features)"
   ]
  },
  {
   "cell_type": "code",
   "execution_count": null,
   "metadata": {},
   "outputs": [],
   "source": [
    "# c) Create Labels (Output Variables)\n",
    "# for infield take from direction\n",
    "# Maybe just split the direction into 5 even intervals for the slices?\n",
    "\n",
    "# for outfield take from heading "
   ]
  },
  {
   "cell_type": "code",
   "execution_count": null,
   "metadata": {},
   "outputs": [],
   "source": [
    "# 3) Create Training/Test Splits"
   ]
  }
 ],
 "metadata": {
  "kernelspec": {
   "display_name": "Python 3",
   "language": "python",
   "name": "python3"
  },
  "language_info": {
   "codemirror_mode": {
    "name": "ipython",
    "version": 3
   },
   "file_extension": ".py",
   "mimetype": "text/x-python",
   "name": "python",
   "nbconvert_exporter": "python",
   "pygments_lexer": "ipython3",
   "version": "3.9.6"
  }
 },
 "nbformat": 4,
 "nbformat_minor": 2
}
