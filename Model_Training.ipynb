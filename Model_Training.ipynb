{
 "cells": [
  {
   "cell_type": "code",
   "execution_count": null,
   "metadata": {},
   "outputs": [],
   "source": [
    "# Model Training:\n",
    "# 1) Load all data from preprocessing (training/test splits, etc)\n",
    "# 2) Begin Training Models\n",
    "    #  a) Decision Tree\n",
    "    #  b) Naive Bayes\n",
    "    #  c) Logistic Regression\n",
    "    #  d) SVM\n",
    "# 3) Testing Models\n",
    "# 4) New Iterations"
   ]
  },
  {
   "cell_type": "code",
   "execution_count": 1,
   "metadata": {},
   "outputs": [],
   "source": [
    "# Imports\n",
    "from Models import ModelUtil\n",
    "import importlib\n",
    "from Data import Preprocessing\n",
    "from sklearn.model_selection import train_test_split"
   ]
  },
  {
   "cell_type": "code",
   "execution_count": 2,
   "metadata": {},
   "outputs": [
    {
     "name": "stderr",
     "output_type": "stream",
     "text": [
      "c:\\Users\\Trent\\Desktop\\Senior Design\\shifting_model\\Data\\DataUtil.py:135: SettingWithCopyWarning: \n",
      "A value is trying to be set on a copy of a slice from a DataFrame.\n",
      "Try using .loc[row_indexer,col_indexer] = value instead\n",
      "\n",
      "See the caveats in the documentation: https://pandas.pydata.org/pandas-docs/stable/user_guide/indexing.html#returning-a-view-versus-a-copy\n",
      "  df[\"PitcherThrows\"] = df[\"PitcherThrows\"].map({\"Left\":1, \"Right\":2, \"Both\":3})\n"
     ]
    }
   ],
   "source": [
    "# 1) Load all data from preprocessing \n",
    "importlib.reload(Preprocessing)\n",
    "importlib.reload(ModelUtil)\n",
    "infieldDataFrame, outfieldDataFrame = Preprocessing.dataFiltering()"
   ]
  },
  {
   "cell_type": "code",
   "execution_count": 3,
   "metadata": {},
   "outputs": [],
   "source": [
    "# 2) Training Models\n",
    "Y = infieldDataFrame[\"FieldSlice\"]\n",
    "X = infieldDataFrame[[\"PitcherThrows\", \"BatterSide\", \"TaggedPitchType\", \"ZoneSpeed\", \"PlateLocHeight\", \"PlateLocSide\"]]\n",
    "xTrain, xTest, yTrain, yTest = train_test_split(X, Y, test_size=0.25, random_state=11)"
   ]
  },
  {
   "cell_type": "code",
   "execution_count": 4,
   "metadata": {},
   "outputs": [
    {
     "name": "stdout",
     "output_type": "stream",
     "text": [
      "training decision tree model...\n",
      "done!\n",
      "getting statistics...\n",
      "11\n",
      "55\n",
      "[[1.         0.         0.         0.         0.        ]\n",
      " [0.0952381  0.66666667 0.19047619 0.         0.04761905]\n",
      " [0.125      0.         0.         0.875      0.        ]\n",
      " [0.16666667 0.         0.75       0.08333333 0.        ]\n",
      " [0.         0.07407407 0.14814815 0.48148148 0.2962963 ]\n",
      " [0.         1.         0.         0.         0.        ]\n",
      " [0.125      0.625      0.25       0.         0.        ]\n",
      " [0.08       0.32       0.36       0.2        0.04      ]\n",
      " [0.         0.07407407 0.14814815 0.48148148 0.2962963 ]\n",
      " [0.0952381  0.66666667 0.19047619 0.         0.04761905]\n",
      " [0.         0.         0.         0.         1.        ]\n",
      " [0.         0.         0.28571429 0.71428571 0.        ]\n",
      " [0.08       0.32       0.36       0.2        0.04      ]\n",
      " [0.16666667 0.83333333 0.         0.         0.        ]\n",
      " [0.0952381  0.66666667 0.19047619 0.         0.04761905]\n",
      " [0.1        0.3        0.3        0.3        0.        ]\n",
      " [0.07692308 0.65384615 0.11538462 0.11538462 0.03846154]\n",
      " [0.0952381  0.66666667 0.19047619 0.         0.04761905]\n",
      " [0.         0.07407407 0.14814815 0.48148148 0.2962963 ]\n",
      " [0.         0.         1.         0.         0.        ]\n",
      " [1.         0.         0.         0.         0.        ]\n",
      " [0.         0.         0.         0.         1.        ]\n",
      " [0.18181818 0.09090909 0.54545455 0.18181818 0.        ]\n",
      " [0.         0.         1.         0.         0.        ]\n",
      " [0.16666667 0.         0.75       0.08333333 0.        ]\n",
      " [0.         0.07407407 0.14814815 0.48148148 0.2962963 ]\n",
      " [0.         0.07407407 0.14814815 0.48148148 0.2962963 ]\n",
      " [0.         0.         0.         1.         0.        ]\n",
      " [0.22222222 0.33333333 0.11111111 0.11111111 0.22222222]\n",
      " [0.22222222 0.33333333 0.11111111 0.11111111 0.22222222]\n",
      " [0.16666667 0.         0.75       0.08333333 0.        ]\n",
      " [0.125      0.625      0.25       0.         0.        ]\n",
      " [0.         0.5        0.         0.         0.5       ]\n",
      " [0.         0.         0.8        0.2        0.        ]\n",
      " [0.5        0.         0.         0.5        0.        ]\n",
      " [0.         0.5        0.         0.5        0.        ]\n",
      " [1.         0.         0.         0.         0.        ]\n",
      " [1.         0.         0.         0.         0.        ]\n",
      " [0.         0.         1.         0.         0.        ]\n",
      " [0.5        0.         0.         0.5        0.        ]\n",
      " [0.07692308 0.65384615 0.11538462 0.11538462 0.03846154]\n",
      " [1.         0.         0.         0.         0.        ]\n",
      " [1.         0.         0.         0.         0.        ]\n",
      " [0.         0.         0.         1.         0.        ]\n",
      " [0.         0.         0.8        0.2        0.        ]\n",
      " [0.         0.66666667 0.         0.33333333 0.        ]\n",
      " [0.16666667 0.83333333 0.         0.         0.        ]\n",
      " [0.16666667 0.5        0.33333333 0.         0.        ]\n",
      " [0.08       0.32       0.36       0.2        0.04      ]\n",
      " [0.1        0.3        0.3        0.3        0.        ]\n",
      " [0.16666667 0.5        0.33333333 0.         0.        ]\n",
      " [0.         0.5        0.         0.5        0.        ]\n",
      " [0.         0.33333333 0.         0.         0.66666667]\n",
      " [0.         0.         1.         0.         0.        ]\n",
      " [0.08       0.32       0.36       0.2        0.04      ]\n",
      " [0.         0.         1.         0.         0.        ]\n",
      " [0.         0.         0.         1.         0.        ]\n",
      " [0.08       0.32       0.36       0.2        0.04      ]\n",
      " [0.07692308 0.65384615 0.11538462 0.11538462 0.03846154]\n",
      " [0.         0.07407407 0.14814815 0.48148148 0.2962963 ]\n",
      " [0.07692308 0.65384615 0.11538462 0.11538462 0.03846154]\n",
      " [0.16666667 0.         0.75       0.08333333 0.        ]\n",
      " [0.08       0.32       0.36       0.2        0.04      ]\n",
      " [1.         0.         0.         0.         0.        ]\n",
      " [0.         0.5        0.         0.         0.5       ]\n",
      " [0.         0.         1.         0.         0.        ]\n",
      " [0.         0.30769231 0.53846154 0.15384615 0.        ]\n",
      " [1.         0.         0.         0.         0.        ]\n",
      " [0.         0.07407407 0.14814815 0.48148148 0.2962963 ]\n",
      " [0.16666667 0.         0.75       0.08333333 0.        ]\n",
      " [1.         0.         0.         0.         0.        ]\n",
      " [0.66666667 0.33333333 0.         0.         0.        ]\n",
      " [0.         1.         0.         0.         0.        ]\n",
      " [0.0952381  0.66666667 0.19047619 0.         0.04761905]\n",
      " [1.         0.         0.         0.         0.        ]\n",
      " [0.08       0.32       0.36       0.2        0.04      ]\n",
      " [0.         0.         0.         0.         1.        ]\n",
      " [0.         0.         0.14285714 0.         0.85714286]\n",
      " [0.         0.         0.         1.         0.        ]\n",
      " [1.         0.         0.         0.         0.        ]\n",
      " [0.07692308 0.65384615 0.11538462 0.11538462 0.03846154]\n",
      " [0.85714286 0.14285714 0.         0.         0.        ]\n",
      " [0.85714286 0.14285714 0.         0.         0.        ]\n",
      " [0.5        0.         0.         0.5        0.        ]\n",
      " [0.         0.         0.         1.         0.        ]\n",
      " [0.16666667 0.         0.75       0.08333333 0.        ]\n",
      " [0.08       0.32       0.36       0.2        0.04      ]\n",
      " [0.07692308 0.65384615 0.11538462 0.11538462 0.03846154]\n",
      " [0.0952381  0.66666667 0.19047619 0.         0.04761905]\n",
      " [0.         0.30769231 0.53846154 0.15384615 0.        ]\n",
      " [0.16666667 0.83333333 0.         0.         0.        ]\n",
      " [0.18181818 0.09090909 0.54545455 0.18181818 0.        ]\n",
      " [0.85714286 0.14285714 0.         0.         0.        ]\n",
      " [0.         0.07407407 0.14814815 0.48148148 0.2962963 ]\n",
      " [0.18181818 0.09090909 0.54545455 0.18181818 0.        ]\n",
      " [0.         0.07407407 0.14814815 0.48148148 0.2962963 ]\n",
      " [0.         0.30769231 0.53846154 0.15384615 0.        ]\n",
      " [0.         0.         0.28571429 0.71428571 0.        ]\n",
      " [0.         0.07407407 0.14814815 0.48148148 0.2962963 ]\n",
      " [1.         0.         0.         0.         0.        ]\n",
      " [0.         0.07407407 0.14814815 0.48148148 0.2962963 ]\n",
      " [0.18181818 0.09090909 0.54545455 0.18181818 0.        ]\n",
      " [0.0952381  0.66666667 0.19047619 0.         0.04761905]\n",
      " [0.         0.         1.         0.         0.        ]\n",
      " [1.         0.         0.         0.         0.        ]\n",
      " [1.         0.         0.         0.         0.        ]\n",
      " [0.         0.07407407 0.14814815 0.48148148 0.2962963 ]]\n",
      "0.24299065420560748\n",
      "done!\n",
      "(DecisionTreeClassifier(max_depth=25, max_features=10, max_leaf_nodes=55), 0.7, 0.24299065420560748)\n"
     ]
    }
   ],
   "source": [
    "# a) Decision Tree\n",
    "# Need to test these hyperparameters for best case\n",
    "result = ModelUtil.runDT(xTrain, yTrain, xTest, yTest, 25, 10, 55)\n",
    "print(result)"
   ]
  },
  {
   "cell_type": "code",
   "execution_count": null,
   "metadata": {},
   "outputs": [],
   "source": [
    "# b) Naive Bayes\n",
    "result = ModelUtil.runNB()"
   ]
  },
  {
   "cell_type": "code",
   "execution_count": null,
   "metadata": {},
   "outputs": [],
   "source": [
    "# c)Logistic Regression\n",
    "result = ModelUtil.runLogReg()"
   ]
  },
  {
   "cell_type": "code",
   "execution_count": null,
   "metadata": {},
   "outputs": [],
   "source": [
    "# d) SVM\n",
    "result = ModelUtil.runSVM()"
   ]
  },
  {
   "cell_type": "code",
   "execution_count": null,
   "metadata": {},
   "outputs": [],
   "source": [
    "# 3) Model Testing:"
   ]
  },
  {
   "cell_type": "code",
   "execution_count": null,
   "metadata": {},
   "outputs": [],
   "source": [
    "# 4) Model Iterations and Improvements"
   ]
  }
 ],
 "metadata": {
  "kernelspec": {
   "display_name": "Python 3",
   "language": "python",
   "name": "python3"
  },
  "language_info": {
   "codemirror_mode": {
    "name": "ipython",
    "version": 3
   },
   "file_extension": ".py",
   "mimetype": "text/x-python",
   "name": "python",
   "nbconvert_exporter": "python",
   "pygments_lexer": "ipython3",
   "version": "3.11.7"
  }
 },
 "nbformat": 4,
 "nbformat_minor": 2
}
