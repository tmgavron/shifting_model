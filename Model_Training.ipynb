{
 "cells": [
  {
   "cell_type": "code",
   "execution_count": null,
   "metadata": {},
   "outputs": [],
   "source": [
    "# Model Training:\n",
    "# 1) Load all data from preprocessing (training/test splits, etc)\n",
    "# 2) Begin Training Models\n",
    "    #  a) Decision Tree\n",
    "    #  b) Naive Bayes\n",
    "    #  c) Logistic Regression\n",
    "    #  d) SVM\n",
    "# 3) Testing Models\n",
    "# 4) New Iterations"
   ]
  },
  {
   "cell_type": "code",
   "execution_count": 1,
   "metadata": {},
   "outputs": [],
   "source": [
    "# Imports\n",
    "from Models import ModelUtil\n",
    "import importlib\n",
    "from Data import Preprocessing\n",
    "from sklearn.model_selection import train_test_split"
   ]
  },
  {
   "cell_type": "code",
   "execution_count": 2,
   "metadata": {},
   "outputs": [
    {
     "name": "stderr",
     "output_type": "stream",
     "text": [
      "c:\\Users\\laure\\Documents\\Auburn\\Senior Design\\shifting_model\\Data\\DataUtil.py:135: SettingWithCopyWarning: \n",
      "A value is trying to be set on a copy of a slice from a DataFrame.\n",
      "Try using .loc[row_indexer,col_indexer] = value instead\n",
      "\n",
      "See the caveats in the documentation: https://pandas.pydata.org/pandas-docs/stable/user_guide/indexing.html#returning-a-view-versus-a-copy\n",
      "  df[\"PitcherThrows\"] = df[\"PitcherThrows\"].map({\"Left\":1, \"Right\":2, \"Both\":3})\n"
     ]
    }
   ],
   "source": [
    "# 1) Load all data from preprocessing \n",
    "importlib.reload(Preprocessing)\n",
    "importlib.reload(ModelUtil)\n",
    "infieldDataFrame, outfieldDataFrame = Preprocessing.dataFiltering()"
   ]
  },
  {
   "cell_type": "code",
   "execution_count": 3,
   "metadata": {},
   "outputs": [],
   "source": [
    "# 2) Training Models\n",
    "Y = infieldDataFrame[\"FieldSlice\"]\n",
    "X = infieldDataFrame[[\"PitcherThrows\", \"BatterSide\", \"TaggedPitchType\", \"ZoneSpeed\", \"PlateLocHeight\", \"PlateLocSide\"]]\n",
    "xTrain, xTest, yTrain, yTest = train_test_split(X, Y, test_size=0.25, random_state=11)"
   ]
  },
  {
   "cell_type": "code",
   "execution_count": 4,
   "metadata": {},
   "outputs": [
    {
     "name": "stdout",
     "output_type": "stream",
     "text": [
      "training decision tree model...\n",
      "done!\n",
      "getting statistics...\n",
      "\n",
      "Decisions Tree Data Splits: train=0.75, test=0.25\n",
      "Decision Tree Depth: 11\n",
      "Decision Tree Number of Leaves: 55\n",
      "Decision Tree's Accuracy Score for Predicting on Training Data: 0.6813\n",
      "Decision Tree's Accuracy Score for Predicting on Test Data: 0.2243\n",
      "\n",
      "Decision Tree Overall Average Probabilities\n",
      "-------------------------------------\n",
      "Section 1: 26.18%\n",
      "Section 2: 22.94%\n",
      "Section 3: 20.52%\n",
      "Section 4: 20.48%\n",
      "Section 5: 9.87%\n",
      "Decision Tree Field Slice Counts for Training Data\n",
      "--------------------------------------------------\n",
      "Section\tTruth\tPrediction\n",
      "1\t\t62\t\t59\n",
      "2\t\t90\t\t59\n",
      "3\t\t74\t\t89\n",
      "4\t\t65\t\t71\n",
      "5\t\t29\t\t42\n",
      "Amount Correct: 218\n",
      "Amount Incorrect: 102\n",
      "Decision Tree Field Slice Counts for Testing Data\n",
      "--------------------------------------------------\n",
      "Section\tTruth\tPrediction\n",
      "1\t\t19\t\t26\n",
      "2\t\t29\t\t22\n",
      "3\t\t25\t\t28\n",
      "4\t\t24\t\t20\n",
      "5\t\t10\t\t11\n",
      "Amount Correct: 24\n",
      "Amount Incorrect: 83\n",
      "done!\n",
      "(DecisionTreeClassifier(class_weight='balanced', max_depth=25, max_features=10,\n",
      "                       max_leaf_nodes=55), 0.68125, 0.22429906542056074)\n"
     ]
    },
    {
     "name": "stderr",
     "output_type": "stream",
     "text": [
      "c:\\Users\\laure\\Documents\\Auburn\\Senior Design\\shifting_model\\Models\\ModelUtil.py:64: FutureWarning: The default of observed=False is deprecated and will be changed to True in a future version of pandas. Pass observed=False to retain current behavior or observed=True to adopt the future default and silence this warning.\n",
      "  dfTestStats = dftest.groupby([\"FieldSliceActual\"]).size().reset_index()\n",
      "c:\\Users\\laure\\Documents\\Auburn\\Senior Design\\shifting_model\\Models\\ModelUtil.py:68: FutureWarning: The default of observed=False is deprecated and will be changed to True in a future version of pandas. Pass observed=False to retain current behavior or observed=True to adopt the future default and silence this warning.\n",
      "  dfTestStats[\"Correct\"] = dftemp.groupby([\"FieldSliceActual\"]).size().reset_index()[0]\n",
      "c:\\Users\\laure\\Documents\\Auburn\\Senior Design\\shifting_model\\Models\\ModelUtil.py:70: FutureWarning: The default of observed=False is deprecated and will be changed to True in a future version of pandas. Pass observed=False to retain current behavior or observed=True to adopt the future default and silence this warning.\n",
      "  dfTrainStats = dftrain.groupby([\"FieldSliceActual\"]).size().reset_index()\n",
      "c:\\Users\\laure\\Documents\\Auburn\\Senior Design\\shifting_model\\Models\\ModelUtil.py:74: FutureWarning: The default of observed=False is deprecated and will be changed to True in a future version of pandas. Pass observed=False to retain current behavior or observed=True to adopt the future default and silence this warning.\n",
      "  dfTrainStats[\"Correct\"] = dftemp.groupby([\"FieldSliceActual\"]).size().reset_index()[0]\n"
     ]
    }
   ],
   "source": [
    "# a) Decision Tree\n",
    "# Need to test these hyperparameters for best case\n",
    "max_depth = 25\n",
    "max_features = 10\n",
    "max_leaf_nodes = 55\n",
    "result = ModelUtil.runDT(xTrain, yTrain, xTest, yTest, max_depth, max_features, max_leaf_nodes)\n",
    "#print(result)"
   ]
  },
  {
   "cell_type": "code",
   "execution_count": null,
   "metadata": {},
   "outputs": [],
   "source": [
    "# b) Naive Bayes\n",
    "result = ModelUtil.runNB()"
   ]
  },
  {
   "cell_type": "code",
   "execution_count": null,
   "metadata": {},
   "outputs": [],
   "source": [
    "# c)Logistic Regression\n",
    "result = ModelUtil.runLogReg()"
   ]
  },
  {
   "cell_type": "code",
   "execution_count": null,
   "metadata": {},
   "outputs": [],
   "source": [
    "# d) SVM\n",
    "result = ModelUtil.runSVM()"
   ]
  },
  {
   "cell_type": "code",
   "execution_count": null,
   "metadata": {},
   "outputs": [],
   "source": [
    "# 3) Model Testing:"
   ]
  },
  {
   "cell_type": "code",
   "execution_count": null,
   "metadata": {},
   "outputs": [],
   "source": [
    "# 4) Model Iterations and Improvements"
   ]
  }
 ],
 "metadata": {
  "kernelspec": {
   "display_name": "Python 3",
   "language": "python",
   "name": "python3"
  },
  "language_info": {
   "codemirror_mode": {
    "name": "ipython",
    "version": 3
   },
   "file_extension": ".py",
   "mimetype": "text/x-python",
   "name": "python",
   "nbconvert_exporter": "python",
   "pygments_lexer": "ipython3",
   "version": "3.12.1"
  }
 },
 "nbformat": 4,
 "nbformat_minor": 2
}
