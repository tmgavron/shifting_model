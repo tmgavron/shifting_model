{
 "cells": [
  {
   "cell_type": "code",
   "execution_count": null,
   "metadata": {},
   "outputs": [],
   "source": [
    "# Model Training:\n",
    "# 1) Load all data from preprocessing (training/test splits, etc)\n",
    "# 2) Begin Training Models\n",
    "    #  a) Decision Tree\n",
    "    #  b) Naive Bayes\n",
    "    #  c) Logistic Regression\n",
    "    #  d) SVM\n",
    "# 3) Testing Models\n",
    "# 4) New Iterations"
   ]
  },
  {
   "cell_type": "code",
   "execution_count": 10,
   "metadata": {},
   "outputs": [],
   "source": [
    "# Imports\n",
    "from Models import ModelUtil\n",
    "import importlib\n",
    "from Data import Preprocessing\n",
    "from sklearn.model_selection import train_test_split\n",
    "from Logs import logging as logs"
   ]
  },
  {
   "cell_type": "code",
   "execution_count": 11,
   "metadata": {},
   "outputs": [
    {
     "name": "stderr",
     "output_type": "stream",
     "text": [
      "c:\\Users\\Trent\\Desktop\\Senior Design\\shifting_model\\Data\\DataUtil.py:135: SettingWithCopyWarning: \n",
      "A value is trying to be set on a copy of a slice from a DataFrame.\n",
      "Try using .loc[row_indexer,col_indexer] = value instead\n",
      "\n",
      "See the caveats in the documentation: https://pandas.pydata.org/pandas-docs/stable/user_guide/indexing.html#returning-a-view-versus-a-copy\n",
      "  df[\"PitcherThrows\"] = df[\"PitcherThrows\"].map({\"Left\":1, \"Right\":2, \"Both\":3})\n"
     ]
    }
   ],
   "source": [
    "# 1) Load all data from preprocessing \n",
    "importlib.reload(Preprocessing)\n",
    "importlib.reload(ModelUtil)\n",
    "importlib.reload(logs)\n",
    "infieldDataFrame, outfieldDataFrame = Preprocessing.dataFiltering()"
   ]
  },
  {
   "cell_type": "code",
   "execution_count": null,
   "metadata": {},
   "outputs": [],
   "source": [
    "infieldcorrmatrix = infieldDataFrame.corr()\n",
    "infieldcorrmatrix.to_csv('Infield_Correlation_Matrix')\n",
    "outfieldcorrmatrix = outfieldDataFrame.corr()\n",
    "outfieldcorrmatrix.to_csv('Outfield_Correlation_Matrix')"
   ]
  },
  {
   "cell_type": "code",
   "execution_count": 12,
   "metadata": {},
   "outputs": [],
   "source": [
    "# 2) Training Models\n",
    "Y = infieldDataFrame[\"FieldSlice\"]\n",
    "X = infieldDataFrame[[\"PitcherThrows\", \"BatterSide\", \"TaggedPitchType\", \"ZoneSpeed\", \"PlateLocHeight\", \"PlateLocSide\"]]\n",
    "xTrain, xTest, yTrain, yTest = train_test_split(X, Y, test_size=0.20, random_state=11)"
   ]
  },
  {
   "cell_type": "code",
   "execution_count": 13,
   "metadata": {},
   "outputs": [
    {
     "name": "stdout",
     "output_type": "stream",
     "text": [
      "training decision tree model...\n",
      "done!\n",
      "getting statistics...\n",
      "\n"
     ]
    },
    {
     "name": "stderr",
     "output_type": "stream",
     "text": [
      "c:\\Users\\Trent\\Desktop\\Senior Design\\shifting_model\\Logs\\logging.py:58: FutureWarning: The default of observed=False is deprecated and will be changed to True in a future version of pandas. Pass observed=False to retain current behavior or observed=True to adopt the future default and silence this warning.\n",
      "  dfTestStats = dftest.groupby([\"FieldSliceActual\"]).size().reset_index()\n",
      "c:\\Users\\Trent\\Desktop\\Senior Design\\shifting_model\\Logs\\logging.py:62: FutureWarning: The default of observed=False is deprecated and will be changed to True in a future version of pandas. Pass observed=False to retain current behavior or observed=True to adopt the future default and silence this warning.\n",
      "  dfTestStats[\"Correct\"] = dftemp.groupby([\"FieldSliceActual\"]).size().reset_index()[0]\n"
     ]
    },
    {
     "name": "stdout",
     "output_type": "stream",
     "text": [
      "Model Type: DecisionTree\n",
      "\n",
      "Training Size = 45028\n",
      "Testing Size = 11257\n",
      "\n",
      "Training Accuracy = 0.32264368837167984\n",
      "Testing Accuracy = 0.31269432353202453\n",
      "\n",
      "Hyper-Parameters: \n",
      "\n",
      "Max Tree Depth: 25\n",
      "Max Tree Features: 10\n",
      "Max Leaf Nodes: 55\n",
      "\n",
      "Accuracy Score for Predicting on Training Data: 0.3226\n",
      "Accuracy Score for Predicting on Test Data: 0.3127\n",
      "\n",
      "Overall Average Probabilities\n",
      "-------------------------------------\n",
      "Section 1: 20.76%\n",
      "Section 2: 20.65%\n",
      "Section 3: 20.24%\n",
      "Section 4: 19.54%\n",
      "Section 5: 18.80%\n",
      "\n",
      "Field Slice Counts for Training Data\n",
      "--------------------------------------------------\n",
      "Section\tTruth\tPrediction\n",
      "1\t\t7817\t\t16175\n",
      "2\t\t11664\t\t9772\n",
      "3\t\t11058\t\t3585\n",
      "4\t\t9059\t\t6395\n",
      "5\t\t5430\t\t9101\n",
      "Amount Correct: 14528\n",
      "Amount Incorrect: 30500\n",
      "\n",
      "Field Slice Counts for Testing Data\n",
      "--------------------------------------------------\n",
      "Section\tTruth\tPrediction\n",
      "1\t\t1991\t\t4071\n",
      "2\t\t2946\t\t2453\n",
      "3\t\t2717\t\t904\n",
      "4\t\t2305\t\t1555\n",
      "5\t\t1298\t\t2274\n",
      "Amount Correct: 3520\n",
      "Amount Incorrect: 7737\n",
      "done!\n"
     ]
    },
    {
     "name": "stderr",
     "output_type": "stream",
     "text": [
      "c:\\Users\\Trent\\Desktop\\Senior Design\\shifting_model\\Logs\\logging.py:64: FutureWarning: The default of observed=False is deprecated and will be changed to True in a future version of pandas. Pass observed=False to retain current behavior or observed=True to adopt the future default and silence this warning.\n",
      "  dfTrainStats = dftrain.groupby([\"FieldSliceActual\"]).size().reset_index()\n",
      "c:\\Users\\Trent\\Desktop\\Senior Design\\shifting_model\\Logs\\logging.py:68: FutureWarning: The default of observed=False is deprecated and will be changed to True in a future version of pandas. Pass observed=False to retain current behavior or observed=True to adopt the future default and silence this warning.\n",
      "  dfTrainStats[\"Correct\"] = dftemp.groupby([\"FieldSliceActual\"]).size().reset_index()[0]\n",
      "c:\\Users\\Trent\\Desktop\\Senior Design\\shifting_model\\Logs\\logging.py:147: FutureWarning: The default of observed=False is deprecated and will be changed to True in a future version of pandas. Pass observed=False to retain current behavior or observed=True to adopt the future default and silence this warning.\n",
      "  dfTestStats = dftest.groupby([\"FieldSliceActual\"]).size().reset_index()\n",
      "c:\\Users\\Trent\\Desktop\\Senior Design\\shifting_model\\Logs\\logging.py:151: FutureWarning: The default of observed=False is deprecated and will be changed to True in a future version of pandas. Pass observed=False to retain current behavior or observed=True to adopt the future default and silence this warning.\n",
      "  dfTestStats[\"Correct\"] = dftemp.groupby([\"FieldSliceActual\"]).size().reset_index()[0]\n",
      "c:\\Users\\Trent\\Desktop\\Senior Design\\shifting_model\\Logs\\logging.py:153: FutureWarning: The default of observed=False is deprecated and will be changed to True in a future version of pandas. Pass observed=False to retain current behavior or observed=True to adopt the future default and silence this warning.\n",
      "  dfTrainStats = dftrain.groupby([\"FieldSliceActual\"]).size().reset_index()\n",
      "c:\\Users\\Trent\\Desktop\\Senior Design\\shifting_model\\Logs\\logging.py:157: FutureWarning: The default of observed=False is deprecated and will be changed to True in a future version of pandas. Pass observed=False to retain current behavior or observed=True to adopt the future default and silence this warning.\n",
      "  dfTrainStats[\"Correct\"] = dftemp.groupby([\"FieldSliceActual\"]).size().reset_index()[0]\n"
     ]
    }
   ],
   "source": [
    "# a) Decision Tree\n",
    "# Need to test these hyperparameters for best case\n",
    "max_depth = 25\n",
    "max_features = 10\n",
    "max_leaf_nodes = 55\n",
    "result = ModelUtil.runDT(xTrain, yTrain, xTest, yTest, max_depth, max_features, max_leaf_nodes)\n"
   ]
  },
  {
   "cell_type": "code",
   "execution_count": 9,
   "metadata": {},
   "outputs": [
    {
     "name": "stdout",
     "output_type": "stream",
     "text": [
      "training Naive Bayes model...\n",
      "done!\n",
      "getting statistics...\n"
     ]
    },
    {
     "name": "stderr",
     "output_type": "stream",
     "text": [
      "c:\\Users\\Trent\\Desktop\\Senior Design\\shifting_model\\Logs\\logging.py:58: FutureWarning: The default of observed=False is deprecated and will be changed to True in a future version of pandas. Pass observed=False to retain current behavior or observed=True to adopt the future default and silence this warning.\n",
      "  dfTestStats = dftest.groupby([\"FieldSliceActual\"]).size().reset_index()\n",
      "c:\\Users\\Trent\\Desktop\\Senior Design\\shifting_model\\Logs\\logging.py:62: FutureWarning: The default of observed=False is deprecated and will be changed to True in a future version of pandas. Pass observed=False to retain current behavior or observed=True to adopt the future default and silence this warning.\n",
      "  dfTestStats[\"Correct\"] = dftemp.groupby([\"FieldSliceActual\"]).size().reset_index()[0]\n",
      "c:\\Users\\Trent\\Desktop\\Senior Design\\shifting_model\\Logs\\logging.py:64: FutureWarning: The default of observed=False is deprecated and will be changed to True in a future version of pandas. Pass observed=False to retain current behavior or observed=True to adopt the future default and silence this warning.\n",
      "  dfTrainStats = dftrain.groupby([\"FieldSliceActual\"]).size().reset_index()\n",
      "c:\\Users\\Trent\\Desktop\\Senior Design\\shifting_model\\Logs\\logging.py:68: FutureWarning: The default of observed=False is deprecated and will be changed to True in a future version of pandas. Pass observed=False to retain current behavior or observed=True to adopt the future default and silence this warning.\n",
      "  dfTrainStats[\"Correct\"] = dftemp.groupby([\"FieldSliceActual\"]).size().reset_index()[0]\n"
     ]
    },
    {
     "name": "stdout",
     "output_type": "stream",
     "text": [
      "Model Type: NaiveBayes\n",
      "\n",
      "Training Size = 45028\n",
      "Testing Size = 11257\n",
      "\n",
      "Training Accuracy = 0.31340499244914277\n",
      "Testing Accuracy = 0.31988984631784667\n",
      "\n",
      "Hyper-Parameters: \n",
      "\n",
      "Var Smoothing: 1e-09\n",
      "\n",
      "Accuracy Score for Predicting on Training Data: 0.3134\n",
      "Accuracy Score for Predicting on Test Data: 0.3199\n",
      "\n",
      "Overall Average Probabilities\n",
      "-------------------------------------\n",
      "Section 1: 19.31%\n",
      "Section 2: 24.61%\n",
      "Section 3: 23.65%\n",
      "Section 4: 20.36%\n",
      "Section 5: 12.07%\n",
      "\n",
      "Field Slice Counts for Training Data\n",
      "--------------------------------------------------\n",
      "Section\tTruth\tPrediction\n",
      "1\t\t7817\t\t8297\n",
      "2\t\t11664\t\t21117\n",
      "3\t\t11058\t\t472\n",
      "4\t\t9059\t\t12094\n",
      "5\t\t5430\t\t3048\n",
      "Amount Correct: 14112\n",
      "Amount Incorrect: 30916\n",
      "\n",
      "Field Slice Counts for Testing Data\n",
      "--------------------------------------------------\n",
      "Section\tTruth\tPrediction\n",
      "1\t\t1991\t\t2114\n",
      "2\t\t2946\t\t5287\n",
      "3\t\t2717\t\t97\n",
      "4\t\t2305\t\t3027\n",
      "5\t\t1298\t\t732\n",
      "Amount Correct: 3601\n",
      "Amount Incorrect: 7656\n"
     ]
    },
    {
     "name": "stderr",
     "output_type": "stream",
     "text": [
      "c:\\Users\\Trent\\Desktop\\Senior Design\\shifting_model\\Logs\\logging.py:147: FutureWarning: The default of observed=False is deprecated and will be changed to True in a future version of pandas. Pass observed=False to retain current behavior or observed=True to adopt the future default and silence this warning.\n",
      "  dfTestStats = dftest.groupby([\"FieldSliceActual\"]).size().reset_index()\n",
      "c:\\Users\\Trent\\Desktop\\Senior Design\\shifting_model\\Logs\\logging.py:151: FutureWarning: The default of observed=False is deprecated and will be changed to True in a future version of pandas. Pass observed=False to retain current behavior or observed=True to adopt the future default and silence this warning.\n",
      "  dfTestStats[\"Correct\"] = dftemp.groupby([\"FieldSliceActual\"]).size().reset_index()[0]\n",
      "c:\\Users\\Trent\\Desktop\\Senior Design\\shifting_model\\Logs\\logging.py:153: FutureWarning: The default of observed=False is deprecated and will be changed to True in a future version of pandas. Pass observed=False to retain current behavior or observed=True to adopt the future default and silence this warning.\n",
      "  dfTrainStats = dftrain.groupby([\"FieldSliceActual\"]).size().reset_index()\n",
      "c:\\Users\\Trent\\Desktop\\Senior Design\\shifting_model\\Logs\\logging.py:157: FutureWarning: The default of observed=False is deprecated and will be changed to True in a future version of pandas. Pass observed=False to retain current behavior or observed=True to adopt the future default and silence this warning.\n",
      "  dfTrainStats[\"Correct\"] = dftemp.groupby([\"FieldSliceActual\"]).size().reset_index()[0]\n"
     ]
    },
    {
     "name": "stdout",
     "output_type": "stream",
     "text": [
      "done!\n"
     ]
    }
   ],
   "source": [
    "# b) Naive Bayes\n",
    "\n",
    "var_smoothing = 1e-9\n",
    "result = ModelUtil.runNB(xTrain, yTrain, xTest, yTest, var_smoothing)\n",
    "test = True\n",
    "# print(\"Training Accuracy: \")\n",
    "# print(result[1])\n",
    "# print(\"Testing Accuracy: \")\n",
    "# print(result[2])"
   ]
  },
  {
   "cell_type": "code",
   "execution_count": 7,
   "metadata": {},
   "outputs": [
    {
     "name": "stdout",
     "output_type": "stream",
     "text": [
      "training logistic regression model...\n",
      "done!\n",
      "getting statistics...\n",
      "logging statistics...\n",
      "Model Type: LogisticRegression\n",
      "\n",
      "Training Size = 45028\n",
      "Testing Size = 11257\n",
      "\n",
      "Training Accuracy = 0.30105712001421336\n",
      "Testing Accuracy = 0.3014124544727725\n",
      "\n",
      "Hyper-Parameters: \n",
      "\n",
      "Learning Rate: 0.8\n",
      "Epochs: 100\n",
      "\n",
      "Accuracy Score for Predicting on Training Data: 0.3011\n",
      "Accuracy Score for Predicting on Test Data: 0.3014\n",
      "\n",
      "Overall Average Probabilities\n",
      "-------------------------------------\n",
      "Section 1: 20.66%\n",
      "Section 2: 20.58%\n",
      "Section 3: 20.19%\n",
      "Section 4: 19.62%\n",
      "Section 5: 18.96%\n",
      "\n",
      "Field Slice Counts for Training Data\n",
      "--------------------------------------------------\n",
      "Section\tTruth\tPrediction\n",
      "1\t\t7817\t\t15986\n",
      "2\t\t11664\t\t10222\n",
      "3\t\t11058\t\t3023\n",
      "4\t\t9059\t\t3750\n",
      "5\t\t5430\t\t12047\n",
      "Amount Correct: 13556\n",
      "Amount Incorrect: 31472\n",
      "\n",
      "Field Slice Counts for Testing Data\n",
      "--------------------------------------------------\n",
      "Section\tTruth\tPrediction\n",
      "1\t\t1991\t\t4058\n",
      "2\t\t2946\t\t2577\n",
      "3\t\t2717\t\t729\n",
      "4\t\t2305\t\t897\n",
      "5\t\t1298\t\t2996\n",
      "Amount Correct: 3393\n",
      "Amount Incorrect: 7864\n",
      "done!\n",
      "Training Accuracy: \n",
      "0.30105712001421336\n",
      "Testing Accuracy: \n",
      "0.3014124544727725\n"
     ]
    },
    {
     "name": "stderr",
     "output_type": "stream",
     "text": [
      "C:\\Users\\Trent\\AppData\\Local\\Packages\\PythonSoftwareFoundation.Python.3.11_qbz5n2kfra8p0\\LocalCache\\local-packages\\Python311\\site-packages\\sklearn\\linear_model\\_logistic.py:460: ConvergenceWarning: lbfgs failed to converge (status=1):\n",
      "STOP: TOTAL NO. of ITERATIONS REACHED LIMIT.\n",
      "\n",
      "Increase the number of iterations (max_iter) or scale the data as shown in:\n",
      "    https://scikit-learn.org/stable/modules/preprocessing.html\n",
      "Please also refer to the documentation for alternative solver options:\n",
      "    https://scikit-learn.org/stable/modules/linear_model.html#logistic-regression\n",
      "  n_iter_i = _check_optimize_result(\n",
      "c:\\Users\\Trent\\Desktop\\Senior Design\\shifting_model\\Logs\\logging.py:58: FutureWarning: The default of observed=False is deprecated and will be changed to True in a future version of pandas. Pass observed=False to retain current behavior or observed=True to adopt the future default and silence this warning.\n",
      "  dfTestStats = dftest.groupby([\"FieldSliceActual\"]).size().reset_index()\n",
      "c:\\Users\\Trent\\Desktop\\Senior Design\\shifting_model\\Logs\\logging.py:62: FutureWarning: The default of observed=False is deprecated and will be changed to True in a future version of pandas. Pass observed=False to retain current behavior or observed=True to adopt the future default and silence this warning.\n",
      "  dfTestStats[\"Correct\"] = dftemp.groupby([\"FieldSliceActual\"]).size().reset_index()[0]\n",
      "c:\\Users\\Trent\\Desktop\\Senior Design\\shifting_model\\Logs\\logging.py:64: FutureWarning: The default of observed=False is deprecated and will be changed to True in a future version of pandas. Pass observed=False to retain current behavior or observed=True to adopt the future default and silence this warning.\n",
      "  dfTrainStats = dftrain.groupby([\"FieldSliceActual\"]).size().reset_index()\n",
      "c:\\Users\\Trent\\Desktop\\Senior Design\\shifting_model\\Logs\\logging.py:68: FutureWarning: The default of observed=False is deprecated and will be changed to True in a future version of pandas. Pass observed=False to retain current behavior or observed=True to adopt the future default and silence this warning.\n",
      "  dfTrainStats[\"Correct\"] = dftemp.groupby([\"FieldSliceActual\"]).size().reset_index()[0]\n",
      "c:\\Users\\Trent\\Desktop\\Senior Design\\shifting_model\\Logs\\logging.py:147: FutureWarning: The default of observed=False is deprecated and will be changed to True in a future version of pandas. Pass observed=False to retain current behavior or observed=True to adopt the future default and silence this warning.\n",
      "  dfTestStats = dftest.groupby([\"FieldSliceActual\"]).size().reset_index()\n",
      "c:\\Users\\Trent\\Desktop\\Senior Design\\shifting_model\\Logs\\logging.py:151: FutureWarning: The default of observed=False is deprecated and will be changed to True in a future version of pandas. Pass observed=False to retain current behavior or observed=True to adopt the future default and silence this warning.\n",
      "  dfTestStats[\"Correct\"] = dftemp.groupby([\"FieldSliceActual\"]).size().reset_index()[0]\n",
      "c:\\Users\\Trent\\Desktop\\Senior Design\\shifting_model\\Logs\\logging.py:153: FutureWarning: The default of observed=False is deprecated and will be changed to True in a future version of pandas. Pass observed=False to retain current behavior or observed=True to adopt the future default and silence this warning.\n",
      "  dfTrainStats = dftrain.groupby([\"FieldSliceActual\"]).size().reset_index()\n",
      "c:\\Users\\Trent\\Desktop\\Senior Design\\shifting_model\\Logs\\logging.py:157: FutureWarning: The default of observed=False is deprecated and will be changed to True in a future version of pandas. Pass observed=False to retain current behavior or observed=True to adopt the future default and silence this warning.\n",
      "  dfTrainStats[\"Correct\"] = dftemp.groupby([\"FieldSliceActual\"]).size().reset_index()[0]\n"
     ]
    }
   ],
   "source": [
    "# c)Logistic Regression\n",
    "lr = 0.8\n",
    "e = 100\n",
    "result = ModelUtil.runLogReg(xTrain, yTrain, xTest, yTest, lr, e)\n",
    "print(\"Training Accuracy: \")\n",
    "print(result[1])\n",
    "print(\"Testing Accuracy: \")\n",
    "print(result[2])"
   ]
  },
  {
   "cell_type": "code",
   "execution_count": 8,
   "metadata": {},
   "outputs": [
    {
     "name": "stdout",
     "output_type": "stream",
     "text": [
      "training SVM model...\n",
      "done!\n",
      "getting statistics...\n"
     ]
    },
    {
     "name": "stderr",
     "output_type": "stream",
     "text": [
      "c:\\Users\\Trent\\Desktop\\Senior Design\\shifting_model\\Logs\\logging.py:58: FutureWarning: The default of observed=False is deprecated and will be changed to True in a future version of pandas. Pass observed=False to retain current behavior or observed=True to adopt the future default and silence this warning.\n",
      "  dfTestStats = dftest.groupby([\"FieldSliceActual\"]).size().reset_index()\n",
      "c:\\Users\\Trent\\Desktop\\Senior Design\\shifting_model\\Logs\\logging.py:62: FutureWarning: The default of observed=False is deprecated and will be changed to True in a future version of pandas. Pass observed=False to retain current behavior or observed=True to adopt the future default and silence this warning.\n",
      "  dfTestStats[\"Correct\"] = dftemp.groupby([\"FieldSliceActual\"]).size().reset_index()[0]\n",
      "c:\\Users\\Trent\\Desktop\\Senior Design\\shifting_model\\Logs\\logging.py:64: FutureWarning: The default of observed=False is deprecated and will be changed to True in a future version of pandas. Pass observed=False to retain current behavior or observed=True to adopt the future default and silence this warning.\n",
      "  dfTrainStats = dftrain.groupby([\"FieldSliceActual\"]).size().reset_index()\n",
      "c:\\Users\\Trent\\Desktop\\Senior Design\\shifting_model\\Logs\\logging.py:68: FutureWarning: The default of observed=False is deprecated and will be changed to True in a future version of pandas. Pass observed=False to retain current behavior or observed=True to adopt the future default and silence this warning.\n",
      "  dfTrainStats[\"Correct\"] = dftemp.groupby([\"FieldSliceActual\"]).size().reset_index()[0]\n"
     ]
    },
    {
     "name": "stdout",
     "output_type": "stream",
     "text": [
      "Model Type: SVM\n",
      "\n",
      "Training Size = 45028\n",
      "Testing Size = 11257\n",
      "\n",
      "Training Accuracy = 0.283867815581416\n",
      "Testing Accuracy = 0.2796482188860265\n",
      "\n",
      "Hyper-Parameters: \n",
      "\n",
      "Regularization Constant: 1\n",
      "Kernel Type: linear\n",
      "Kernel Degree1\n",
      "Kernel Coefficient (gamma): scale\n",
      "Independent Term in Kernel (coef0): 0.0\n",
      "\n",
      "Accuracy Score for Predicting on Training Data: 0.2839\n",
      "Accuracy Score for Predicting on Test Data: 0.2796\n"
     ]
    },
    {
     "name": "stderr",
     "output_type": "stream",
     "text": [
      "c:\\Users\\Trent\\Desktop\\Senior Design\\shifting_model\\Logs\\logging.py:147: FutureWarning: The default of observed=False is deprecated and will be changed to True in a future version of pandas. Pass observed=False to retain current behavior or observed=True to adopt the future default and silence this warning.\n",
      "  dfTestStats = dftest.groupby([\"FieldSliceActual\"]).size().reset_index()\n",
      "c:\\Users\\Trent\\Desktop\\Senior Design\\shifting_model\\Logs\\logging.py:151: FutureWarning: The default of observed=False is deprecated and will be changed to True in a future version of pandas. Pass observed=False to retain current behavior or observed=True to adopt the future default and silence this warning.\n",
      "  dfTestStats[\"Correct\"] = dftemp.groupby([\"FieldSliceActual\"]).size().reset_index()[0]\n",
      "c:\\Users\\Trent\\Desktop\\Senior Design\\shifting_model\\Logs\\logging.py:153: FutureWarning: The default of observed=False is deprecated and will be changed to True in a future version of pandas. Pass observed=False to retain current behavior or observed=True to adopt the future default and silence this warning.\n",
      "  dfTrainStats = dftrain.groupby([\"FieldSliceActual\"]).size().reset_index()\n",
      "c:\\Users\\Trent\\Desktop\\Senior Design\\shifting_model\\Logs\\logging.py:157: FutureWarning: The default of observed=False is deprecated and will be changed to True in a future version of pandas. Pass observed=False to retain current behavior or observed=True to adopt the future default and silence this warning.\n",
      "  dfTrainStats[\"Correct\"] = dftemp.groupby([\"FieldSliceActual\"]).size().reset_index()[0]\n"
     ]
    },
    {
     "name": "stdout",
     "output_type": "stream",
     "text": [
      "\n",
      "Overall Average Probabilities\n",
      "-------------------------------------\n",
      "Section 1: 17.00%\n",
      "Section 2: 26.27%\n",
      "Section 3: 24.53%\n",
      "Section 4: 20.14%\n",
      "Section 5: 12.06%\n",
      "\n",
      "Field Slice Counts for Training Data\n",
      "--------------------------------------------------\n",
      "Section\tTruth\tPrediction\n",
      "1\t\t7817\t\t16090.0\n",
      "2\t\t11664\t\t13786.0\n",
      "3\t\t11058\t\t15152.0\n",
      "4\t\t9059\t\tnan\n",
      "5\t\t5430\t\tnan\n",
      "Amount Correct: 12782\n",
      "Amount Incorrect: 32246\n",
      "\n",
      "Field Slice Counts for Testing Data\n",
      "--------------------------------------------------\n",
      "Section\tTruth\tPrediction\n",
      "1\t\t1991\t\t4072.0\n",
      "2\t\t2946\t\t3426.0\n",
      "3\t\t2717\t\t3759.0\n",
      "4\t\t2305\t\tnan\n",
      "5\t\t1298\t\tnan\n",
      "Amount Correct: 3148\n",
      "Amount Incorrect: 8109\n",
      "done!\n",
      "Training Accuracy: \n",
      "0.283867815581416\n",
      "Testing Accuracy: \n",
      "0.2796482188860265\n"
     ]
    }
   ],
   "source": [
    "# d) SVM\n",
    "rC = 1\n",
    "kernel='linear'\n",
    "degree= 1\n",
    "gamma= 'scale'\n",
    "coef0= 0.0\n",
    "result = ModelUtil.runSVM(xTrain, yTrain, xTest, yTest, rC, kernel, degree, gamma, coef0)\n",
    "print(\"Training Accuracy: \")\n",
    "print(result[1])\n",
    "print(\"Testing Accuracy: \")\n",
    "print(result[2])"
   ]
  },
  {
   "cell_type": "code",
   "execution_count": null,
   "metadata": {},
   "outputs": [],
   "source": [
    "# 3) Model Testing:"
   ]
  },
  {
   "cell_type": "code",
   "execution_count": null,
   "metadata": {},
   "outputs": [],
   "source": [
    "# 4) Model Iterations and Improvements"
   ]
  }
 ],
 "metadata": {
  "kernelspec": {
   "display_name": "Python 3",
   "language": "python",
   "name": "python3"
  },
  "language_info": {
   "codemirror_mode": {
    "name": "ipython",
    "version": 3
   },
   "file_extension": ".py",
   "mimetype": "text/x-python",
   "name": "python",
   "nbconvert_exporter": "python",
   "pygments_lexer": "ipython3",
   "version": "3.12.1"
  }
 },
 "nbformat": 4,
 "nbformat_minor": 2
}
