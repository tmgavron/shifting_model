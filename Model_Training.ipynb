{
 "cells": [
  {
   "cell_type": "code",
   "execution_count": null,
   "metadata": {},
   "outputs": [],
   "source": [
    "# Model Training:\n",
    "# 1) Load all data from preprocessing (training/test splits, etc)\n",
    "# 2) Begin Training Models\n",
    "    #  a) Decision Tree\n",
    "    #  b) Naive Bayes\n",
    "    #  c) Logistic Regression\n",
    "    #  d) SVM\n",
    "# 3) Testing Models\n",
    "# 4) New Iterations"
   ]
  },
  {
   "cell_type": "code",
   "execution_count": 18,
   "metadata": {},
   "outputs": [],
   "source": [
    "# Imports\n",
    "from Models import ModelUtil\n",
    "import importlib\n",
    "from Data import Preprocessing\n",
    "from sklearn.model_selection import train_test_split"
   ]
  },
  {
   "cell_type": "code",
   "execution_count": 19,
   "metadata": {},
   "outputs": [
    {
     "name": "stderr",
     "output_type": "stream",
     "text": [
      "c:\\Users\\Trent\\Desktop\\Senior Design\\shifting_model\\Data\\DataUtil.py:135: SettingWithCopyWarning: \n",
      "A value is trying to be set on a copy of a slice from a DataFrame.\n",
      "Try using .loc[row_indexer,col_indexer] = value instead\n",
      "\n",
      "See the caveats in the documentation: https://pandas.pydata.org/pandas-docs/stable/user_guide/indexing.html#returning-a-view-versus-a-copy\n",
      "  df[\"PitcherThrows\"] = df[\"PitcherThrows\"].map({\"Left\":1, \"Right\":2, \"Both\":3})\n"
     ]
    }
   ],
   "source": [
    "# 1) Load all data from preprocessing \n",
    "importlib.reload(Preprocessing)\n",
    "importlib.reload(ModelUtil)\n",
    "infieldDataFrame, outfieldDataFrame = Preprocessing.dataFiltering()"
   ]
  },
  {
   "cell_type": "code",
   "execution_count": 20,
   "metadata": {},
   "outputs": [
    {
     "name": "stdout",
     "output_type": "stream",
     "text": [
      "0.18969555035128804\n",
      "0.2786885245901639\n",
      "0.23185011709601874\n",
      "0.20843091334894615\n",
      "0.09133489461358314\n"
     ]
    }
   ],
   "source": [
    "# 2) Training Models\n",
    "Y = infieldDataFrame[\"FieldSlice\"]\n",
    "X = infieldDataFrame[[\"PitcherThrows\", \"BatterSide\", \"TaggedPitchType\", \"ZoneSpeed\", \"PlateLocHeight\", \"PlateLocSide\"]]\n",
    "xTrain, xTest, yTrain, yTest = train_test_split(X, Y, test_size=0.25, random_state=11)"
   ]
  },
  {
   "cell_type": "code",
   "execution_count": 21,
   "metadata": {},
   "outputs": [
    {
     "name": "stdout",
     "output_type": "stream",
     "text": [
      "training decision tree model...\n",
      "done!\n",
      "getting statistics...\n",
      "11\n",
      "55\n",
      "[[0.27848541 0.         0.54442643 0.17708816 0.        ]\n",
      " [0.92889908 0.07110092 0.         0.         0.        ]\n",
      " [0.14992312 0.20656074 0.         0.64351615 0.        ]\n",
      " [0.27848541 0.         0.54442643 0.17708816 0.        ]\n",
      " [0.         0.         1.         0.         0.        ]\n",
      " [0.1495218  0.41201563 0.43846257 0.         0.        ]\n",
      " [0.70754717 0.29245283 0.         0.         0.        ]\n",
      " [0.0910796  0.2509749  0.34339472 0.21718982 0.09736095]\n",
      " [0.         0.         1.         0.         0.        ]\n",
      " [0.16586016 0.68555534 0.06948196 0.07910254 0.        ]\n",
      " [0.         0.         0.         1.         0.        ]\n",
      " [0.         0.13829787 0.         0.86170213 0.        ]\n",
      " [0.0910796  0.2509749  0.34339472 0.21718982 0.09736095]\n",
      " [0.16747133 0.69221485 0.14031382 0.         0.        ]\n",
      " [0.07724398 0.21285009 0.1941538  0.51575213 0.        ]\n",
      " [0.07724398 0.21285009 0.1941538  0.51575213 0.        ]\n",
      " [0.07945919 0.71160115 0.13314782 0.07579184 0.        ]\n",
      " [0.16586016 0.68555534 0.06948196 0.07910254 0.        ]\n",
      " [1.         0.         0.         0.         0.        ]\n",
      " [0.         0.13829787 0.         0.86170213 0.        ]\n",
      " [0.70754717 0.29245283 0.         0.         0.        ]\n",
      " [0.         0.         0.         1.         0.        ]\n",
      " [0.         0.         0.4676259  0.5323741  0.        ]\n",
      " [0.         0.         0.08491756 0.04833769 0.86674475]\n",
      " [0.71413253 0.06149475 0.22437272 0.         0.        ]\n",
      " [0.         0.13829787 0.         0.86170213 0.        ]\n",
      " [1.         0.         0.         0.         0.        ]\n",
      " [0.         0.06835266 0.08313161 0.         0.84851573]\n",
      " [0.         0.59090909 0.         0.40909091 0.        ]\n",
      " [0.         0.         0.30516432 0.69483568 0.        ]\n",
      " [0.27848541 0.         0.54442643 0.17708816 0.        ]\n",
      " [0.70754717 0.29245283 0.         0.         0.        ]\n",
      " [0.         0.10941765 0.13307552 0.75750682 0.        ]\n",
      " [0.1495218  0.41201563 0.43846257 0.         0.        ]\n",
      " [0.14992312 0.20656074 0.         0.64351615 0.        ]\n",
      " [0.         0.13829787 0.         0.86170213 0.        ]\n",
      " [0.         0.         0.4676259  0.5323741  0.        ]\n",
      " [0.         0.         1.         0.         0.        ]\n",
      " [0.         0.         0.08491756 0.04833769 0.86674475]\n",
      " [0.51181102 0.         0.         0.48818898 0.        ]\n",
      " [0.70754717 0.29245283 0.         0.         0.        ]\n",
      " [0.92889908 0.07110092 0.         0.         0.        ]\n",
      " [0.30015393 0.41354541 0.         0.28630067 0.        ]\n",
      " [0.         0.         0.         1.         0.        ]\n",
      " [0.1495218  0.41201563 0.43846257 0.         0.        ]\n",
      " [1.         0.         0.         0.         0.        ]\n",
      " [0.16747133 0.69221485 0.14031382 0.         0.        ]\n",
      " [0.1495218  0.41201563 0.43846257 0.         0.        ]\n",
      " [0.0910796  0.2509749  0.34339472 0.21718982 0.09736095]\n",
      " [0.07724398 0.21285009 0.1941538  0.51575213 0.        ]\n",
      " [0.1495218  0.41201563 0.43846257 0.         0.        ]\n",
      " [0.         0.         1.         0.         0.        ]\n",
      " [0.         0.24369748 0.         0.         0.75630252]\n",
      " [0.         0.         1.         0.         0.        ]\n",
      " [0.0910796  0.2509749  0.34339472 0.21718982 0.09736095]\n",
      " [1.         0.         0.         0.         0.        ]\n",
      " [0.07724398 0.21285009 0.1941538  0.51575213 0.        ]\n",
      " [0.0910796  0.2509749  0.34339472 0.21718982 0.09736095]\n",
      " [0.07724398 0.21285009 0.1941538  0.51575213 0.        ]\n",
      " [0.         0.         0.08491756 0.04833769 0.86674475]\n",
      " [0.07945919 0.71160115 0.13314782 0.07579184 0.        ]\n",
      " [0.27848541 0.         0.54442643 0.17708816 0.        ]\n",
      " [0.0910796  0.2509749  0.34339472 0.21718982 0.09736095]\n",
      " [0.71413253 0.06149475 0.22437272 0.         0.        ]\n",
      " [0.         0.         0.         1.         0.        ]\n",
      " [1.         0.         0.         0.         0.        ]\n",
      " [0.         0.21004367 0.59606987 0.19388646 0.        ]\n",
      " [1.         0.         0.         0.         0.        ]\n",
      " [0.         0.         0.4676259  0.5323741  0.        ]\n",
      " [0.27848541 0.         0.54442643 0.17708816 0.        ]\n",
      " [0.30015393 0.41354541 0.         0.28630067 0.        ]\n",
      " [0.7574379  0.05217906 0.19038304 0.         0.        ]\n",
      " [0.         1.         0.         0.         0.        ]\n",
      " [0.70754717 0.29245283 0.         0.         0.        ]\n",
      " [0.16586016 0.68555534 0.06948196 0.07910254 0.        ]\n",
      " [0.0910796  0.2509749  0.34339472 0.21718982 0.09736095]\n",
      " [0.         0.         0.         1.         0.        ]\n",
      " [0.         0.         0.08491756 0.04833769 0.86674475]\n",
      " [0.         1.         0.         0.         0.        ]\n",
      " [0.30015393 0.41354541 0.         0.28630067 0.        ]\n",
      " [0.07945919 0.71160115 0.13314782 0.07579184 0.        ]\n",
      " [0.71413253 0.06149475 0.22437272 0.         0.        ]\n",
      " [0.71413253 0.06149475 0.22437272 0.         0.        ]\n",
      " [1.         0.         0.         0.         0.        ]\n",
      " [0.         0.59090909 0.         0.40909091 0.        ]\n",
      " [0.27848541 0.         0.54442643 0.17708816 0.        ]\n",
      " [0.0910796  0.2509749  0.34339472 0.21718982 0.09736095]\n",
      " [0.07945919 0.71160115 0.13314782 0.07579184 0.        ]\n",
      " [0.16586016 0.68555534 0.06948196 0.07910254 0.        ]\n",
      " [0.         0.21004367 0.59606987 0.19388646 0.        ]\n",
      " [0.16747133 0.69221485 0.14031382 0.         0.        ]\n",
      " [0.7574379  0.05217906 0.19038304 0.         0.        ]\n",
      " [0.71413253 0.06149475 0.22437272 0.         0.        ]\n",
      " [0.         1.         0.         0.         0.        ]\n",
      " [0.30015393 0.41354541 0.         0.28630067 0.        ]\n",
      " [0.         0.         0.08491756 0.04833769 0.86674475]\n",
      " [0.         0.21004367 0.59606987 0.19388646 0.        ]\n",
      " [0.         0.         0.6372549  0.3627451  0.        ]\n",
      " [0.         0.13829787 0.         0.86170213 0.        ]\n",
      " [0.30015393 0.41354541 0.         0.28630067 0.        ]\n",
      " [0.51181102 0.         0.         0.48818898 0.        ]\n",
      " [0.7574379  0.05217906 0.19038304 0.         0.        ]\n",
      " [0.         1.         0.         0.         0.        ]\n",
      " [0.         0.06835266 0.08313161 0.         0.84851573]\n",
      " [0.92889908 0.07110092 0.         0.         0.        ]\n",
      " [1.         0.         0.         0.         0.        ]\n",
      " [0.         0.13829787 0.         0.86170213 0.        ]]\n",
      "0.22429906542056074\n",
      "done!\n",
      "(DecisionTreeClassifier(class_weight='balanced', max_depth=25, max_features=10,\n",
      "                       max_leaf_nodes=55), 0.68125, 0.22429906542056074)\n"
     ]
    }
   ],
   "source": [
    "# a) Decision Tree\n",
    "# Need to test these hyperparameters for best case\n",
    "max_depth = 25\n",
    "max_features = 10\n",
    "max_leaf_nodes = 55\n",
    "result = ModelUtil.runDT(xTrain, yTrain, xTest, yTest, max_depth, max_features, max_leaf_nodes)\n",
    "print(result)"
   ]
  },
  {
   "cell_type": "code",
   "execution_count": null,
   "metadata": {},
   "outputs": [],
   "source": [
    "# b) Naive Bayes\n",
    "result = ModelUtil.runNB()"
   ]
  },
  {
   "cell_type": "code",
   "execution_count": null,
   "metadata": {},
   "outputs": [],
   "source": [
    "# c)Logistic Regression\n",
    "result = ModelUtil.runLogReg()"
   ]
  },
  {
   "cell_type": "code",
   "execution_count": null,
   "metadata": {},
   "outputs": [],
   "source": [
    "# d) SVM\n",
    "result = ModelUtil.runSVM()"
   ]
  },
  {
   "cell_type": "code",
   "execution_count": null,
   "metadata": {},
   "outputs": [],
   "source": [
    "# 3) Model Testing:"
   ]
  },
  {
   "cell_type": "code",
   "execution_count": null,
   "metadata": {},
   "outputs": [],
   "source": [
    "# 4) Model Iterations and Improvements"
   ]
  }
 ],
 "metadata": {
  "kernelspec": {
   "display_name": "Python 3",
   "language": "python",
   "name": "python3"
  },
  "language_info": {
   "codemirror_mode": {
    "name": "ipython",
    "version": 3
   },
   "file_extension": ".py",
   "mimetype": "text/x-python",
   "name": "python",
   "nbconvert_exporter": "python",
   "pygments_lexer": "ipython3",
   "version": "3.11.7"
  }
 },
 "nbformat": 4,
 "nbformat_minor": 2
}
