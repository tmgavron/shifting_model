{
 "cells": [
  {
   "cell_type": "code",
   "execution_count": null,
   "metadata": {},
   "outputs": [],
   "source": [
    "# Model Training:\n",
    "# 1) Load all data from preprocessing (training/test splits, etc)\n",
    "# 2) Begin Training Models\n",
    "    #  a) Decision Tree\n",
    "    #  b) Naive Bayes\n",
    "    #  c) Logistic Regression\n",
    "    #  d) SVM\n",
    "# 3) Testing Models\n",
    "# 4) New Iterations"
   ]
  },
  {
   "cell_type": "code",
   "execution_count": 207,
   "metadata": {},
   "outputs": [],
   "source": [
    "# Imports\n",
    "from Models import ModelUtil\n",
    "import importlib\n",
    "from Data import Preprocessing\n",
    "from sklearn.model_selection import train_test_split"
   ]
  },
  {
   "cell_type": "code",
   "execution_count": 301,
   "metadata": {},
   "outputs": [],
   "source": [
    "# 1) Load all data from preprocessing \n",
    "importlib.reload(Preprocessing)\n",
    "importlib.reload(ModelUtil)\n",
    "infieldDataFrame, outfieldDataFrame = Preprocessing.dataFiltering()"
   ]
  },
  {
   "cell_type": "code",
   "execution_count": 294,
   "metadata": {},
   "outputs": [],
   "source": [
    "# 2) Training Models\n",
    "Y = infieldDataFrame[\"FieldSlice\"]\n",
    "X = infieldDataFrame.drop([\"TaggedHitType\",\"PitchCall\",\"FieldSlice\",\"Direction\"], axis=1)\n",
    "xTrain, xTest, yTrain, yTest = train_test_split(X, Y, test_size=0.25, random_state=11)"
   ]
  },
  {
   "cell_type": "code",
   "execution_count": 302,
   "metadata": {},
   "outputs": [
    {
     "name": "stdout",
     "output_type": "stream",
     "text": [
      "training decision tree model...\n",
      "done!\n",
      "getting statistics...\n",
      "\n",
      "Decisions Tree Data Splits: train=0.75, test=0.25\n",
      "Decision Tree Depth: 11\n",
      "Decision Tree Number of Leaves: 55\n",
      "Decision Tree's Accuracy Score for Predicting on Training Data: 0.7000\n",
      "Decision Tree's Accuracy Score for Predicting on Test Data: 0.2430\n",
      "\n",
      "Decision Tree Overall Average Probabilities\n",
      "-------------------------------------\n",
      "Section 1: 21.58%\n",
      "Section 2: 24.40%\n",
      "Section 3: 24.56%\n",
      "Section 4: 19.74%\n",
      "Section 5: 9.73%\n",
      "Decision Tree Field Slice Counts for Training Data\n",
      "--------------------------------------------------\n",
      "Section\tTruth\tPrediction\n",
      "1\t\t62\t\t51\n",
      "2\t\t90\t\t110\n",
      "3\t\t74\t\t83\n",
      "4\t\t65\t\t60\n",
      "5\t\t29\t\t16\n",
      "Amount Correct: 224\n",
      "Amount Incorrect: 96\n",
      "Decision Tree Field Slice Counts for Testing Data\n",
      "--------------------------------------------------\n",
      "Section\tTruth\tPrediction\n",
      "1\t\t19\t\t20\n",
      "2\t\t29\t\t32\n",
      "3\t\t25\t\t30\n",
      "4\t\t24\t\t20\n",
      "5\t\t10\t\t5\n",
      "Amount Correct: 26\n",
      "Amount Incorrect: 81\n",
      "done!\n",
      "(DecisionTreeClassifier(max_depth=25, max_features=10, max_leaf_nodes=55), 0.7, 0.24299065420560748)\n"
     ]
    },
    {
     "name": "stderr",
     "output_type": "stream",
     "text": [
      "c:\\Users\\laure\\Documents\\Auburn\\Senior Design\\shifting_model\\Models\\ModelUtil.py:64: FutureWarning: The default of observed=False is deprecated and will be changed to True in a future version of pandas. Pass observed=False to retain current behavior or observed=True to adopt the future default and silence this warning.\n",
      "  # dfTestStats = pd.DataFrame()\n",
      "c:\\Users\\laure\\Documents\\Auburn\\Senior Design\\shifting_model\\Models\\ModelUtil.py:68: FutureWarning: The default of observed=False is deprecated and will be changed to True in a future version of pandas. Pass observed=False to retain current behavior or observed=True to adopt the future default and silence this warning.\n",
      "  dftemp = dftest[dftest[\"Correct\"] == True]\n",
      "c:\\Users\\laure\\Documents\\Auburn\\Senior Design\\shifting_model\\Models\\ModelUtil.py:70: FutureWarning: The default of observed=False is deprecated and will be changed to True in a future version of pandas. Pass observed=False to retain current behavior or observed=True to adopt the future default and silence this warning.\n",
      "  \n",
      "c:\\Users\\laure\\Documents\\Auburn\\Senior Design\\shifting_model\\Models\\ModelUtil.py:74: FutureWarning: The default of observed=False is deprecated and will be changed to True in a future version of pandas. Pass observed=False to retain current behavior or observed=True to adopt the future default and silence this warning.\n",
      "  dftemp = dftrain[dftrain[\"Correct\"] == True]\n"
     ]
    }
   ],
   "source": [
    "# a) Decision Tree\n",
    "# Need to test these hyperparameters for best case\n",
    "result = ModelUtil.runDT(xTrain, yTrain, xTest, yTest, 25, 10, 55)\n",
    "\n",
    "# I could join the dfs for x, y, and predictions and then visualize them.\n",
    "# Probably could start the filtering on Pitch types with Pitch Style(Left/Right) to just\n",
    "# allow for some easy visualizations\n",
    "\n",
    "\n",
    "\n",
    "print(result)"
   ]
  },
  {
   "cell_type": "code",
   "execution_count": null,
   "metadata": {},
   "outputs": [
    {
     "name": "stdout",
     "output_type": "stream",
     "text": [
      "training decision tree model...\n",
      "done!\n",
      "getting statistics...\n",
      "\n",
      "Decisions Tree Data Splits: train=0.75, test=0.25\n",
      "Decision Tree Depth: 11\n",
      "Decision Tree Number of Leaves: 55\n",
      "Decision Tree's Accuracy Score for Predicting on Training Data: 0.7000\n",
      "Decision Tree's Accuracy Score for Predicting on Test Data: 0.2430\n",
      "\n",
      "Decision Tree Overall Average Probabilities\n",
      "-------------------------------------\n",
      "Section 1: 21.58%\n",
      "Section 2: 24.40%\n",
      "Section 3: 24.56%\n",
      "Section 4: 19.74%\n",
      "Section 5: 9.73%\n",
      "Decision Tree Field Slice Counts for Training Data\n",
      "--------------------------------------------------\n",
      "Section\tTruth\tPrediction\n",
      "1\t\t62\t\t51\n",
      "2\t\t90\t\t110\n",
      "3\t\t74\t\t83\n",
      "4\t\t65\t\t60\n",
      "5\t\t29\t\t16\n",
      "Amount Correct: 224\n",
      "Amount Incorrect: 96\n",
      "Decision Tree Field Slice Counts for Testing Data\n",
      "--------------------------------------------------\n",
      "Section\tTruth\tPrediction\n",
      "1\t\t19\t\t20\n",
      "2\t\t29\t\t32\n",
      "3\t\t25\t\t30\n",
      "4\t\t24\t\t20\n",
      "5\t\t10\t\t5\n",
      "Amount Correct: 26\n",
      "Amount Incorrect: 81\n",
      "done!\n",
      "(DecisionTreeClassifier(max_depth=25, max_features=10, max_leaf_nodes=55), 0.7, 0.24299065420560748)\n"
     ]
    },
    {
     "name": "stderr",
     "output_type": "stream",
     "text": [
      "c:\\Users\\laure\\Documents\\Auburn\\Senior Design\\shifting_model\\Models\\ModelUtil.py:64: FutureWarning: The default of observed=False is deprecated and will be changed to True in a future version of pandas. Pass observed=False to retain current behavior or observed=True to adopt the future default and silence this warning.\n",
      "  # dfTestStats = pd.DataFrame()\n",
      "c:\\Users\\laure\\Documents\\Auburn\\Senior Design\\shifting_model\\Models\\ModelUtil.py:68: FutureWarning: The default of observed=False is deprecated and will be changed to True in a future version of pandas. Pass observed=False to retain current behavior or observed=True to adopt the future default and silence this warning.\n",
      "  dftemp = dftest[dftest[\"Correct\"] == True]\n",
      "c:\\Users\\laure\\Documents\\Auburn\\Senior Design\\shifting_model\\Models\\ModelUtil.py:70: FutureWarning: The default of observed=False is deprecated and will be changed to True in a future version of pandas. Pass observed=False to retain current behavior or observed=True to adopt the future default and silence this warning.\n",
      "  \n",
      "c:\\Users\\laure\\Documents\\Auburn\\Senior Design\\shifting_model\\Models\\ModelUtil.py:74: FutureWarning: The default of observed=False is deprecated and will be changed to True in a future version of pandas. Pass observed=False to retain current behavior or observed=True to adopt the future default and silence this warning.\n",
      "  dftemp = dftrain[dftrain[\"Correct\"] == True]\n"
     ]
    }
   ],
   "source": [
    "# a) Decision Tree\n",
    "# Need to test these hyperparameters for best case\n",
    "result = ModelUtil.runDT(xTrain, yTrain, xTest, yTest, 25, 10, 55)\n",
    "\n",
    "# I could join the dfs for x, y, and predictions and then visualize them.\n",
    "# Probably could start the filtering on Pitch types with Pitch Style(Left/Right) to just\n",
    "# allow for some easy visualizations\n",
    "\n",
    "\n",
    "\n",
    "print(result)"
   ]
  },
  {
   "cell_type": "code",
   "execution_count": null,
   "metadata": {},
   "outputs": [],
   "source": [
    "# b) Naive Bayes\n",
    "result = ModelUtil.runNB()"
   ]
  },
  {
   "cell_type": "code",
   "execution_count": null,
   "metadata": {},
   "outputs": [],
   "source": [
    "# c)Logistic Regression\n",
    "result = ModelUtil.runLogReg()"
   ]
  },
  {
   "cell_type": "code",
   "execution_count": null,
   "metadata": {},
   "outputs": [],
   "source": [
    "# d) SVM\n",
    "result = ModelUtil.runSVM()"
   ]
  },
  {
   "cell_type": "code",
   "execution_count": null,
   "metadata": {},
   "outputs": [],
   "source": [
    "# 3) Model Testing:"
   ]
  },
  {
   "cell_type": "code",
   "execution_count": null,
   "metadata": {},
   "outputs": [],
   "source": [
    "# 4) Model Iterations and Improvements"
   ]
  }
 ],
 "metadata": {
  "kernelspec": {
   "display_name": "Python 3",
   "language": "python",
   "name": "python3"
  },
  "language_info": {
   "codemirror_mode": {
    "name": "ipython",
    "version": 3
   },
   "file_extension": ".py",
   "mimetype": "text/x-python",
   "name": "python",
   "nbconvert_exporter": "python",
   "pygments_lexer": "ipython3",
   "version": "3.12.1"
  }
 },
 "nbformat": 4,
 "nbformat_minor": 2
}
